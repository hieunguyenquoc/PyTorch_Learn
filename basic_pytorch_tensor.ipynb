{
 "cells": [
  {
   "cell_type": "markdown",
   "metadata": {},
   "source": [
    "Tạo các tensor đơn giản"
   ]
  },
  {
   "cell_type": "code",
   "execution_count": null,
   "metadata": {},
   "outputs": [],
   "source": [
    "import torch\n",
    "\n",
    "#tạo tensor 1 chiều với 3 phần tử là 1\n",
    "ts = torch.ones(3)\n",
    "\n",
    "#tạo tensor từ một list\n",
    "points = torch.tensor([1.0,2.0,3.0,4.0,5.0])\n",
    "\n",
    "#check chiều của một tensor\n",
    "points_shape = points.shape\n",
    "\n",
    "#tạo tensor với nhiều chiều\n",
    "mul_ts = torch.ones(2,3) #2 mảng 1 chiều, mỗi mảng 1 chiều chứa 3 phần tử \n",
    "\n",
    "_3ds = torch.tensor([[1.0,4.0],[2.0,2.0],[3.0,5.0]])\n",
    "\n",
    "_3ds_shape = _3ds.shape\n",
    "print(_3ds[2,0])\n",
    "print(_3ds_shape)\n",
    "print(mul_ts)\n",
    "print(points_shape)\n",
    "print(points)\n",
    "print(ts)"
   ]
  },
  {
   "cell_type": "markdown",
   "metadata": {},
   "source": [
    "Storage trong tensor"
   ]
  },
  {
   "cell_type": "code",
   "execution_count": 19,
   "metadata": {},
   "outputs": [
    {
     "name": "stdout",
     "output_type": "stream",
     "text": [
      "1.0\n",
      " 1.0\n",
      " 2.0\n",
      " 5.0\n",
      " 6.0\n",
      "[torch.FloatStorage of size 4]\n"
     ]
    }
   ],
   "source": [
    "points = torch.tensor([[1.0,2.0],[5.0,6.0]])\n",
    "\n",
    "#storage() : là một array gồm các giá trị trong một tensor, luôn chỉ là array\n",
    "poinst_storage = points.storage()\n",
    "\n",
    "#truy cập vào từng phẩn tử trong storage\n",
    "index_poinst_storage = poinst_storage[0]\n",
    "\n",
    "print(index_poinst_storage)\n",
    "print(ts.storage())"
   ]
  },
  {
   "cell_type": "markdown",
   "metadata": {},
   "source": [
    "Size, storage offset và strides"
   ]
  },
  {
   "cell_type": "code",
   "execution_count": 32,
   "metadata": {},
   "outputs": [
    {
     "name": "stdout",
     "output_type": "stream",
     "text": [
      "torch.Size([3, 2])\n",
      "2\n",
      "(1,)\n",
      "tensor([[ 1.,  3.],\n",
      "        [10.,  6.],\n",
      "        [ 8.,  6.]])\n",
      "tensor([[ 1.,  3.],\n",
      "        [10.,  6.],\n",
      "        [ 8.,  6.]])\n"
     ]
    }
   ],
   "source": [
    "dt = torch.tensor([[1.0,3.0],[5.0,6.0],[8.0,6.0]])\n",
    "dt_storage = dt.storage()\n",
    "\n",
    "#size(shape) : là một tuple, chỉ kích thước của tensor. Ví dụ : (3,3) : có 3 hàng, 3 cột\n",
    "print(dt.shape)\n",
    "\n",
    "#storage offset : vị trí trong storage của phần tử đầu tiên trong tensor\n",
    "storage_dt = dt[1]\n",
    "print(storage_dt.storage_offset())\n",
    "\n",
    "#strides : số phần tử sẽ được bỏ qua để storage nhảy đến phần tử tiếp theo \n",
    "print(storage_dt.stride())\n",
    "\n",
    "#thay đổi subtensor làm thay đổi luôn tensor gốc\n",
    "storage_dt[0] = 10.0\n",
    "print(dt)\n",
    "\n",
    "#clone subtensor ra một tensor mới hoàn toàn\n",
    "storage_dt2 = dt[2].clone()\n",
    "storage_dt2[0] = 12.0\n",
    "print(dt)\n",
    "\n"
   ]
  },
  {
   "cell_type": "markdown",
   "metadata": {},
   "source": [
    "Chuyển vị (transpose)"
   ]
  },
  {
   "cell_type": "code",
   "execution_count": 37,
   "metadata": {},
   "outputs": [
    {
     "name": "stdout",
     "output_type": "stream",
     "text": [
      "tensor([[1., 2.],\n",
      "        [3., 4.],\n",
      "        [5., 6.]])\n",
      "tensor([[1., 3., 5.],\n",
      "        [2., 4., 6.]])\n",
      " 1.0\n",
      " 2.0\n",
      " 3.0\n",
      " 4.0\n",
      " 5.0\n",
      " 6.0\n",
      "[torch.FloatStorage of size 6]\n",
      " 1.0\n",
      " 2.0\n",
      " 3.0\n",
      " 4.0\n",
      " 5.0\n",
      " 6.0\n",
      "[torch.FloatStorage of size 6]\n",
      "(2, 1)\n",
      "(1, 2)\n",
      "torch.Size([3, 2])\n",
      "torch.Size([2, 3])\n"
     ]
    }
   ],
   "source": [
    "point_t = torch.tensor([[1.0,2.0],[3.0,4.0],[5.0,6.0]])\n",
    "\n",
    "#chuyển vị (transpose)\n",
    "sencond_point = point_t.t()\n",
    "\n",
    "print(point_t)\n",
    "print(sencond_point)\n",
    "print(point_t.storage())\n",
    "print(sencond_point.storage())\n",
    "print(point_t.stride())\n",
    "print(sencond_point.stride())\n",
    "print(point_t.shape)\n",
    "print(sencond_point.shape)"
   ]
  },
  {
   "cell_type": "markdown",
   "metadata": {},
   "source": [
    "Các kiểu dữ liệu trong tensor"
   ]
  },
  {
   "cell_type": "code",
   "execution_count": 46,
   "metadata": {},
   "outputs": [
    {
     "name": "stdout",
     "output_type": "stream",
     "text": [
      "torch.float32\n",
      "torch.int16\n",
      "torch.float64\n"
     ]
    }
   ],
   "source": [
    "#các kiểu dữ liệu : float32, float64, float16, int8, uint8, int16, int32, int64\n",
    "\n",
    "data = torch.zeros(6)\n",
    "\n",
    "#kiểm tra kiểu dữ liệu của tensor\n",
    "type_of_data = data.dtype\n",
    "\n",
    "#định dạng kiểu dữ liệu lúc tạo tensor\n",
    "data2 = torch.tensor([[1.0,2.0],[3.0,4.0]],dtype=torch.int16)\n",
    "\n",
    "#ép kiểu dữ liệu\n",
    "data3 = data2.to(torch.float64)\n",
    "\n",
    "print(type_of_data)\n",
    "print(data2.dtype)\n",
    "print(data3.dtype)"
   ]
  },
  {
   "cell_type": "markdown",
   "metadata": {},
   "source": [
    "Chuyển sang kiểu numpy"
   ]
  },
  {
   "cell_type": "code",
   "execution_count": 48,
   "metadata": {},
   "outputs": [
    {
     "name": "stdout",
     "output_type": "stream",
     "text": [
      "<class 'numpy.ndarray'>\n"
     ]
    }
   ],
   "source": [
    "point_torch = torch.ones(6)\n",
    "\n",
    "#chuyển sang kiểu numpy\n",
    "point_numpy = point_torch.numpy()\n",
    "print(type(point_numpy))"
   ]
  },
  {
   "cell_type": "markdown",
   "metadata": {},
   "source": [
    "Lưu và load tensor"
   ]
  },
  {
   "cell_type": "code",
   "execution_count": 50,
   "metadata": {},
   "outputs": [
    {
     "name": "stdout",
     "output_type": "stream",
     "text": [
      "tensor([1., 1., 1., 1., 1., 1.])\n"
     ]
    }
   ],
   "source": [
    "#lưu tensor vào file torch_save.t\n",
    "torch.save(point_torch,\"torch_save.t\")\n",
    "\n",
    "#load tensor từ file torc_save.t\n",
    "load_torch = torch.load(\"torch_save.t\")\n",
    "print(load_torch)\n"
   ]
  },
  {
   "cell_type": "markdown",
   "metadata": {},
   "source": [
    "Lưu và load file dưới dạng hdf5 file"
   ]
  },
  {
   "cell_type": "code",
   "execution_count": 51,
   "metadata": {},
   "outputs": [
    {
     "name": "stdout",
     "output_type": "stream",
     "text": [
      "Requirement already satisfied: h5py in c:\\users\\hieun\\appdata\\local\\programs\\python\\python37\\lib\\site-packages (3.7.0)Note: you may need to restart the kernel to use updated packages.\n",
      "\n",
      "Requirement already satisfied: numpy>=1.14.5 in c:\\users\\hieun\\appdata\\local\\programs\\python\\python37\\lib\\site-packages (from h5py) (1.21.6)\n"
     ]
    }
   ],
   "source": [
    "%pip install h5py"
   ]
  },
  {
   "cell_type": "code",
   "execution_count": 52,
   "metadata": {},
   "outputs": [],
   "source": [
    "import h5py\n",
    "\n",
    "#lưu dưới dạng hdf5\n",
    "h5_py = h5py.File(\"point.hdf5\",\"w\")\n",
    "ds = h5_py.create_dataset('coords',data=point_torch.numpy()) #coords : khóa để truy cập vào file hdf5\n"
   ]
  },
  {
   "cell_type": "code",
   "execution_count": 60,
   "metadata": {},
   "outputs": [
    {
     "name": "stdout",
     "output_type": "stream",
     "text": [
      "tensor([1., 1., 1., 1., 1.])\n"
     ]
    }
   ],
   "source": [
    "#load tensor từ file\n",
    "h5_py = h5py.File(\"point.hdf5\",\"r\")\n",
    "data = h5_py['coords']\n",
    "point = data[1:]\n",
    "dset = torch.from_numpy(point)\n",
    "print(dset)"
   ]
  },
  {
   "cell_type": "markdown",
   "metadata": {},
   "source": [
    "Chuyển sang xử lý bằng GPU"
   ]
  },
  {
   "cell_type": "code",
   "execution_count": 58,
   "metadata": {},
   "outputs": [
    {
     "ename": "AssertionError",
     "evalue": "Torch not compiled with CUDA enabled",
     "output_type": "error",
     "traceback": [
      "\u001b[1;31m---------------------------------------------------------------------------\u001b[0m",
      "\u001b[1;31mAssertionError\u001b[0m                            Traceback (most recent call last)",
      "\u001b[1;32m~\\AppData\\Local\\Temp\\ipykernel_4968\\451440309.py\u001b[0m in \u001b[0;36m<module>\u001b[1;34m\u001b[0m\n\u001b[0;32m      1\u001b[0m \u001b[1;31m#chuyển về xử lý bằng gpu\u001b[0m\u001b[1;33m\u001b[0m\u001b[1;33m\u001b[0m\u001b[1;33m\u001b[0m\u001b[0m\n\u001b[1;32m----> 2\u001b[1;33m \u001b[0mpoint_to_change\u001b[0m \u001b[1;33m=\u001b[0m \u001b[0mtorch\u001b[0m\u001b[1;33m.\u001b[0m\u001b[0mtensor\u001b[0m\u001b[1;33m(\u001b[0m\u001b[1;33m[\u001b[0m\u001b[1;33m[\u001b[0m\u001b[1;36m2.0\u001b[0m\u001b[1;33m,\u001b[0m\u001b[1;36m2.0\u001b[0m\u001b[1;33m]\u001b[0m\u001b[1;33m,\u001b[0m\u001b[1;33m[\u001b[0m\u001b[1;36m3.0\u001b[0m\u001b[1;33m,\u001b[0m\u001b[1;36m4.0\u001b[0m\u001b[1;33m]\u001b[0m\u001b[1;33m]\u001b[0m\u001b[1;33m,\u001b[0m\u001b[0mdevice\u001b[0m\u001b[1;33m=\u001b[0m\u001b[1;34m\"cuda\"\u001b[0m\u001b[1;33m)\u001b[0m\u001b[1;33m\u001b[0m\u001b[1;33m\u001b[0m\u001b[0m\n\u001b[0m\u001b[0;32m      3\u001b[0m \u001b[1;33m\u001b[0m\u001b[0m\n",
      "\u001b[1;32mc:\\Users\\hieun\\AppData\\Local\\Programs\\Python\\Python37\\lib\\site-packages\\torch\\cuda\\__init__.py\u001b[0m in \u001b[0;36m_lazy_init\u001b[1;34m()\u001b[0m\n\u001b[0;32m    208\u001b[0m                 \"multiprocessing, you must use the 'spawn' start method\")\n\u001b[0;32m    209\u001b[0m         \u001b[1;32mif\u001b[0m \u001b[1;32mnot\u001b[0m \u001b[0mhasattr\u001b[0m\u001b[1;33m(\u001b[0m\u001b[0mtorch\u001b[0m\u001b[1;33m.\u001b[0m\u001b[0m_C\u001b[0m\u001b[1;33m,\u001b[0m \u001b[1;34m'_cuda_getDeviceCount'\u001b[0m\u001b[1;33m)\u001b[0m\u001b[1;33m:\u001b[0m\u001b[1;33m\u001b[0m\u001b[1;33m\u001b[0m\u001b[0m\n\u001b[1;32m--> 210\u001b[1;33m             \u001b[1;32mraise\u001b[0m \u001b[0mAssertionError\u001b[0m\u001b[1;33m(\u001b[0m\u001b[1;34m\"Torch not compiled with CUDA enabled\"\u001b[0m\u001b[1;33m)\u001b[0m\u001b[1;33m\u001b[0m\u001b[1;33m\u001b[0m\u001b[0m\n\u001b[0m\u001b[0;32m    211\u001b[0m         \u001b[1;32mif\u001b[0m \u001b[0m_cudart\u001b[0m \u001b[1;32mis\u001b[0m \u001b[1;32mNone\u001b[0m\u001b[1;33m:\u001b[0m\u001b[1;33m\u001b[0m\u001b[1;33m\u001b[0m\u001b[0m\n\u001b[0;32m    212\u001b[0m             raise AssertionError(\n",
      "\u001b[1;31mAssertionError\u001b[0m: Torch not compiled with CUDA enabled"
     ]
    }
   ],
   "source": [
    "#chuyển về xử lý bằng gpu\n",
    "point_to_change = torch.tensor([[2.0,2.0],[3.0,4.0]],device=\"cuda\")\n",
    "point_change = point_torch.to(device=\"cuda\")\n",
    "\n",
    "#chuyển về xử lý với CPU\n",
    "point_cpu = point_to_change.to(device=\"cpu\")"
   ]
  }
 ],
 "metadata": {
  "kernelspec": {
   "display_name": "Python 3.7.9 64-bit",
   "language": "python",
   "name": "python3"
  },
  "language_info": {
   "codemirror_mode": {
    "name": "ipython",
    "version": 3
   },
   "file_extension": ".py",
   "mimetype": "text/x-python",
   "name": "python",
   "nbconvert_exporter": "python",
   "pygments_lexer": "ipython3",
   "version": "3.7.9"
  },
  "orig_nbformat": 4,
  "vscode": {
   "interpreter": {
    "hash": "d65b2b009303c0af65e9c9d4be8f26c2c45182fd085ae18c2ed3b904a6fa84e8"
   }
  }
 },
 "nbformat": 4,
 "nbformat_minor": 2
}
