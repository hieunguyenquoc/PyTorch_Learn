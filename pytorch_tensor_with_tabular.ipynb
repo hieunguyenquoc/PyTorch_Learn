{
 "cells": [
  {
   "cell_type": "markdown",
   "metadata": {},
   "source": [
    "Load file csv"
   ]
  },
  {
   "cell_type": "code",
   "execution_count": 12,
   "metadata": {},
   "outputs": [
    {
     "name": "stdout",
     "output_type": "stream",
     "text": [
      "[[7.000e+00 2.700e-01 3.600e-01 2.070e+01 4.500e-02 4.500e+01 1.700e+02\n",
      "  1.001e+00 3.000e+00 4.500e-01 8.800e+00 6.000e+00]\n",
      " [6.300e+00 3.000e-01 3.400e-01 1.600e+00 4.900e-02 1.400e+01 1.320e+02\n",
      "  9.940e-01 3.300e+00 4.900e-01 9.500e+00 6.000e+00]\n",
      " [8.100e+00 2.800e-01 4.000e-01 6.900e+00 5.000e-02 3.000e+01 9.700e+01\n",
      "  9.951e-01 3.260e+00 4.400e-01 1.010e+01 6.000e+00]\n",
      " [7.200e+00 2.300e-01 3.200e-01 8.500e+00 5.800e-02 4.700e+01 1.860e+02\n",
      "  9.956e-01 3.190e+00 4.000e-01 9.900e+00 6.000e+00]\n",
      " [7.200e+00 2.300e-01 3.200e-01 8.500e+00 5.800e-02 4.700e+01 1.860e+02\n",
      "  9.956e-01 3.190e+00 4.000e-01 9.900e+00 6.000e+00]]\n",
      "(4898, 12)\n"
     ]
    }
   ],
   "source": [
    "#Chuyển từ dạng bảng thành numpy array\n",
    "import numpy as np\n",
    "\n",
    "wineq_numpy = np.loadtxt(\"winequality-white.csv\",dtype=np.float32, delimiter = \",\",skiprows=1)\n",
    "print(wineq_numpy[:5])\n",
    "print(wineq_numpy.shape)"
   ]
  },
  {
   "cell_type": "code",
   "execution_count": 20,
   "metadata": {},
   "outputs": [
    {
     "name": "stdout",
     "output_type": "stream",
     "text": [
      "tensor([[ 7.0000,  0.2700,  0.3600,  ...,  0.4500,  8.8000,  6.0000],\n",
      "        [ 6.3000,  0.3000,  0.3400,  ...,  0.4900,  9.5000,  6.0000],\n",
      "        [ 8.1000,  0.2800,  0.4000,  ...,  0.4400, 10.1000,  6.0000],\n",
      "        ...,\n",
      "        [ 6.5000,  0.2400,  0.1900,  ...,  0.4600,  9.4000,  6.0000],\n",
      "        [ 5.5000,  0.2900,  0.3000,  ...,  0.3800, 12.8000,  7.0000],\n",
      "        [ 6.0000,  0.2100,  0.3800,  ...,  0.3200, 11.8000,  6.0000]])\n"
     ]
    }
   ],
   "source": [
    "#Chuyển numpy array sang tensor\n",
    "import torch\n",
    "\n",
    "wineq = torch.from_numpy(wineq_numpy)\n",
    "print(wineq)"
   ]
  },
  {
   "cell_type": "markdown",
   "metadata": {},
   "source": [
    "Tách data ra làm 2 loại : data để huấn luyện và nhãn"
   ]
  },
  {
   "cell_type": "code",
   "execution_count": 51,
   "metadata": {},
   "outputs": [
    {
     "name": "stdout",
     "output_type": "stream",
     "text": [
      "torch.Size([4898, 11])\n"
     ]
    }
   ],
   "source": [
    "#tách để tạo data huấn luyện\n",
    "train_winequality = wineq[:, :-1]\n",
    "print(train_winequality.shape)"
   ]
  },
  {
   "cell_type": "code",
   "execution_count": 40,
   "metadata": {},
   "outputs": [
    {
     "name": "stdout",
     "output_type": "stream",
     "text": [
      "tensor([6, 6, 6, 6, 6])\n"
     ]
    }
   ],
   "source": [
    "#tách để tạo cột nhãn\n",
    "label_winequality = wineq[:,-1]\n",
    "label_winequality = label_winequality.to(torch.int64)\n",
    "print(label_winequality[:5])"
   ]
  },
  {
   "cell_type": "code",
   "execution_count": 49,
   "metadata": {},
   "outputs": [
    {
     "name": "stdout",
     "output_type": "stream",
     "text": [
      "4898\n",
      "tensor([[0., 0., 0., 0., 0., 0., 1., 0., 0., 0.],\n",
      "        [0., 0., 0., 0., 0., 0., 1., 0., 0., 0.],\n",
      "        [0., 0., 0., 0., 0., 0., 1., 0., 0., 0.]])\n",
      "tensor([[6],\n",
      "        [6],\n",
      "        [6],\n",
      "        ...,\n",
      "        [6],\n",
      "        [7],\n",
      "        [6]])\n"
     ]
    }
   ],
   "source": [
    "#chuyển cột nhãn thành vecto one hot\n",
    "label_onehot = torch.zeros(len(label_winequality),10)\n",
    "print(label_winequality.shape[0])\n",
    "label_onehot.scatter_(1, label_winequality.unsqueeze(1),1.0) #với mỗi hàng trong cột nhãn, lấy ra giá trị của nó, từ đó thay giá trị 1 vào vị trí tương ứng với với giá trị trong vecto onehot\n",
    "print(label_onehot[:3])\n",
    "\n",
    "#chuyển lại thành cột nhãn\n",
    "label_unsqueezed = label_winequality.unsqueeze(1)\n",
    "print(label_unsqueezed)"
   ]
  },
  {
   "cell_type": "code",
   "execution_count": 57,
   "metadata": {},
   "outputs": [
    {
     "name": "stdout",
     "output_type": "stream",
     "text": [
      "tensor([-8.7229e-07,  2.0561e-06,  2.5172e-06,  8.3724e-09, -1.3022e-05,\n",
      "        -5.0137e-09,  4.3809e-10, -1.5950e-05,  5.4386e-06,  3.8007e-06,\n",
      "         4.4004e-08])\n",
      "tensor([1.4043e+00, 9.8430e+01, 6.8279e+01, 3.8872e-02, 2.0950e+03, 3.4573e-03,\n",
      "        5.5368e-04, 1.1179e+05, 4.3857e+01, 7.6777e+01, 6.6032e-01])\n",
      "tensor([[ 1.4521e-01, -8.2411e-03,  2.5809e-02,  ..., -1.8827e-01,\n",
      "         -3.9847e-02, -1.7143e+00],\n",
      "        [-5.5479e-01,  2.1759e-02,  5.8085e-03,  ...,  1.1173e-01,\n",
      "          1.5313e-04, -1.0143e+00],\n",
      "        [ 1.2452e+00,  1.7589e-03,  6.5809e-02,  ...,  7.1733e-02,\n",
      "         -4.9847e-02, -4.1427e-01],\n",
      "        ...,\n",
      "        [-3.5479e-01, -3.8241e-02, -1.4419e-01,  ..., -1.9827e-01,\n",
      "         -2.9847e-02, -1.1143e+00],\n",
      "        [-1.3548e+00,  1.1759e-02, -3.4191e-02,  ...,  1.5173e-01,\n",
      "         -1.0985e-01,  2.2857e+00],\n",
      "        [-8.5479e-01, -6.8241e-02,  4.5808e-02,  ...,  7.1733e-02,\n",
      "         -1.6985e-01,  1.2857e+00]])\n"
     ]
    }
   ],
   "source": [
    "#tính giá trị trung bình trên từng cột\n",
    "train_winequality_mean = torch.mean(train_winequality,dim=0)\n",
    "print(train_winequality_mean)\n",
    "\n",
    "#tính độ lệnh chuẩn trên từng cột\n",
    "train_winequality_var = torch.var(train_winequality,dim=0)\n",
    "print(train_winequality_var)\n",
    "\n",
    "#chuẩn hóa dữ liệu\n",
    "train_winequality_normalized = (train_winequality - train_winequality_mean)/ train_winequality_var\n",
    "print(train_winequality_normalized) "
   ]
  }
 ],
 "metadata": {
  "kernelspec": {
   "display_name": "Python 3.7.6 64-bit",
   "language": "python",
   "name": "python3"
  },
  "language_info": {
   "codemirror_mode": {
    "name": "ipython",
    "version": 3
   },
   "file_extension": ".py",
   "mimetype": "text/x-python",
   "name": "python",
   "nbconvert_exporter": "python",
   "pygments_lexer": "ipython3",
   "version": "3.7.6"
  },
  "orig_nbformat": 4,
  "vscode": {
   "interpreter": {
    "hash": "d65b2b009303c0af65e9c9d4be8f26c2c45182fd085ae18c2ed3b904a6fa84e8"
   }
  }
 },
 "nbformat": 4,
 "nbformat_minor": 2
}
