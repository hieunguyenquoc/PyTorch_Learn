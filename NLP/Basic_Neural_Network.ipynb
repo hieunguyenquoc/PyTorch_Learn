{
 "cells": [
  {
   "cell_type": "markdown",
   "metadata": {},
   "source": [
    "Xây dựng perceptron (mạng nơ ron đầu tiên)"
   ]
  },
  {
   "cell_type": "code",
   "execution_count": 16,
   "metadata": {},
   "outputs": [],
   "source": [
    "import torch\n",
    "import torch.nn as nn\n",
    "import torch.optim as optim\n",
    "\n",
    "class Perceptron(nn.Module):\n",
    "    def __init__(self, input_dim):\n",
    "        super(Perceptron, self).__init__() #giúp truy cập vào các method khác trong class\n",
    "\n",
    "        self.perceptron = nn.Linear(input_dim,1)\n",
    "        self.new_method()\n",
    "\n",
    "    def new_method(self):\n",
    "        self.activation_function = nn.Sigmoid()\n",
    "    \n",
    "    def forward(self,input):\n",
    "        result = self.perceptron(input)\n",
    "        output = self.activation_function(result)\n",
    "        return output"
   ]
  },
  {
   "cell_type": "markdown",
   "metadata": {},
   "source": [
    "Xây dựng một mạng nơ ron với kiến trúc perceptron, hàm binary cross entropy là hàm loss, hàm sigmoid là hàm kích hoạt, phương pháp tối ưu Adam, learning rate tùy chỉnh"
   ]
  },
  {
   "cell_type": "code",
   "execution_count": 18,
   "metadata": {},
   "outputs": [],
   "source": [
    "learning_rate = 0.0001\n",
    "\n",
    "perceptron = Perceptron(input_dim=2)\n",
    "loss_fn = nn.BCELoss()\n",
    "optimizer = optim.Adam(params=perceptron.parameters(),lr=learning_rate)"
   ]
  },
  {
   "cell_type": "markdown",
   "metadata": {},
   "source": [
    "Xây dựng quá trình huấn luyện"
   ]
  },
  {
   "cell_type": "code",
   "execution_count": null,
   "metadata": {},
   "outputs": [],
   "source": [
    "def training_loop(n_epochs):\n",
    "    for epoch in range(n_epochs):\n",
    "        for batch in range(n_batches):\n",
    "\n",
    "            x_data, y_target = get_toy_dataset()\n",
    "\n",
    "            #Bước 1 : Set đạo hàm bằng 0\n",
    "            perceptron.zero_grad()\n",
    "\n",
    "            #Bước 2 : tính dự đoán\n",
    "            y_predict = perceptron(x_data,applt_sigmoid = True)\n",
    "\n",
    "            #Bước 3 : Tính loss\n",
    "            loss = loss_fn(y_predict, y_target)\n",
    "\n",
    "            #Bước 4 : Thực hiện backpropagation\n",
    "            loss.backward()\n",
    "\n",
    "            #Bước 5 : Tối ưu tham số\n",
    "            optimizer.step()\n",
    "    return y_predict"
   ]
  }
 ],
 "metadata": {
  "kernelspec": {
   "display_name": "Python 3.7.9 64-bit",
   "language": "python",
   "name": "python3"
  },
  "language_info": {
   "codemirror_mode": {
    "name": "ipython",
    "version": 3
   },
   "file_extension": ".py",
   "mimetype": "text/x-python",
   "name": "python",
   "nbconvert_exporter": "python",
   "pygments_lexer": "ipython3",
   "version": "3.7.9"
  },
  "orig_nbformat": 4,
  "vscode": {
   "interpreter": {
    "hash": "d65b2b009303c0af65e9c9d4be8f26c2c45182fd085ae18c2ed3b904a6fa84e8"
   }
  }
 },
 "nbformat": 4,
 "nbformat_minor": 2
}
