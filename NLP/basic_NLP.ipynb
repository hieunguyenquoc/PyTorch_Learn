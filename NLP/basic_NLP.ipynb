{
 "cells": [
  {
   "cell_type": "markdown",
   "metadata": {},
   "source": [
    "Tokenize văn bản"
   ]
  },
  {
   "cell_type": "code",
   "execution_count": 1,
   "metadata": {},
   "outputs": [
    {
     "name": "stdout",
     "output_type": "stream",
     "text": [
      "Requirement already satisfied: underthesea in c:\\users\\hieun\\appdata\\local\\programs\\python\\python37\\lib\\site-packages (1.3.4)\n",
      "Requirement already satisfied: Click>=6.0 in c:\\users\\hieun\\appdata\\local\\programs\\python\\python37\\lib\\site-packages (from underthesea) (8.1.3)\n",
      "Requirement already satisfied: unidecode in c:\\users\\hieun\\appdata\\local\\programs\\python\\python37\\lib\\site-packages (from underthesea) (1.3.4)\n",
      "Requirement already satisfied: scikit-learn in c:\\users\\hieun\\appdata\\local\\programs\\python\\python37\\lib\\site-packages (from underthesea) (0.22.2)\n",
      "Requirement already satisfied: underthesea-core==0.0.4_alpha.10 in c:\\users\\hieun\\appdata\\local\\programs\\python\\python37\\lib\\site-packages (from underthesea) (0.0.4a10)\n",
      "Requirement already satisfied: nltk in c:\\users\\hieun\\appdata\\local\\programs\\python\\python37\\lib\\site-packages (from underthesea) (3.7)\n",
      "Requirement already satisfied: tqdm in c:\\users\\hieun\\appdata\\local\\programs\\python\\python37\\lib\\site-packages (from underthesea) (4.64.0)\n",
      "Requirement already satisfied: requests in c:\\users\\hieun\\appdata\\local\\programs\\python\\python37\\lib\\site-packages (from underthesea) (2.27.1)\n",
      "Requirement already satisfied: joblib in c:\\users\\hieun\\appdata\\local\\programs\\python\\python37\\lib\\site-packages (from underthesea) (1.1.0)\n",
      "Requirement already satisfied: python-crfsuite>=0.9.6 in c:\\users\\hieun\\appdata\\local\\programs\\python\\python37\\lib\\site-packages (from underthesea) (0.9.8)\n",
      "Requirement already satisfied: PyYAML in c:\\users\\hieun\\appdata\\local\\programs\\python\\python37\\lib\\site-packages (from underthesea) (6.0)\n",
      "Requirement already satisfied: importlib-metadata in c:\\users\\hieun\\appdata\\local\\programs\\python\\python37\\lib\\site-packages (from Click>=6.0->underthesea) (4.11.4)\n",
      "Requirement already satisfied: colorama in c:\\users\\hieun\\appdata\\local\\programs\\python\\python37\\lib\\site-packages (from Click>=6.0->underthesea) (0.4.4)\n",
      "Requirement already satisfied: regex>=2021.8.3 in c:\\users\\hieun\\appdata\\local\\programs\\python\\python37\\lib\\site-packages (from nltk->underthesea) (2022.6.2)\n",
      "Requirement already satisfied: charset-normalizer~=2.0.0 in c:\\users\\hieun\\appdata\\local\\programs\\python\\python37\\lib\\site-packages (from requests->underthesea) (2.0.12)\n",
      "Requirement already satisfied: idna<4,>=2.5 in c:\\users\\hieun\\appdata\\local\\programs\\python\\python37\\lib\\site-packages (from requests->underthesea) (3.3)\n",
      "Requirement already satisfied: urllib3<1.27,>=1.21.1 in c:\\users\\hieun\\appdata\\local\\programs\\python\\python37\\lib\\site-packages (from requests->underthesea) (1.26.9)\n",
      "Requirement already satisfied: certifi>=2017.4.17 in c:\\users\\hieun\\appdata\\local\\programs\\python\\python37\\lib\\site-packages (from requests->underthesea) (2022.5.18.1)\n",
      "Requirement already satisfied: numpy>=1.11.0 in c:\\users\\hieun\\appdata\\local\\programs\\python\\python37\\lib\\site-packages (from scikit-learn->underthesea) (1.21.6)\n",
      "Requirement already satisfied: scipy>=0.17.0 in c:\\users\\hieun\\appdata\\local\\programs\\python\\python37\\lib\\site-packages (from scikit-learn->underthesea) (1.7.3)\n",
      "Requirement already satisfied: typing-extensions>=3.6.4 in c:\\users\\hieun\\appdata\\local\\programs\\python\\python37\\lib\\site-packages (from importlib-metadata->Click>=6.0->underthesea) (4.1.1)\n",
      "Requirement already satisfied: zipp>=0.5 in c:\\users\\hieun\\appdata\\local\\programs\\python\\python37\\lib\\site-packages (from importlib-metadata->Click>=6.0->underthesea) (3.8.0)\n",
      "Note: you may need to restart the kernel to use updated packages.\n"
     ]
    }
   ],
   "source": [
    "%pip install underthesea"
   ]
  },
  {
   "cell_type": "code",
   "execution_count": 20,
   "metadata": {},
   "outputs": [
    {
     "name": "stdout",
     "output_type": "stream",
     "text": [
      "['Sau', '3', 'trận', 'liên tiếp', 'bị', 'thủng lưới', ',', 'Real Madrid', 'cuối cùng', 'cũng', 'giữ', 'sạch', 'lưới', 'ở', 'Coliseum', 'nhờ', 'có', 'trận', 'thắng', 'sít sao', '1-0', 'trước', 'Getafe']\n",
      "['Từ trước đến nay, tiền gửi của người dân tại ngân hàng trong đó có SCB, được nhà nước đảm bảo trong mọi trường hợp, bà Nguyễn Thị Hồng khẳng định.', 'Thống đốc Ngân hàng Nhà nước Nguyễn Thị Hồng sáng 10/10 cho hay, một số thông tin tiêu cực lan truyền vừa qua đã ảnh hưởng đến hoạt động của Ngân hàng Sài Gòn (SCB).', 'Trước tình hình đó, Ngân hàng Nhà nước đã áp dụng các biện pháp cần thiết để SCB hoạt động bình thường, đảm bảo khả năng thanh khoản.', 'Thống đốc cho biết: \"Ở Việt Nam từ trước đến nay, những khoản tiền gửi của người dân tại ngân hàng, trong đó có SCB đều được nhà nước đảm bảo trong mọi trường hợp\".', 'Bà nói những người gửi tiền ở SCB cần hết sức bình tĩnh, không nên rút tiền, nhất là rút trước hạn, để đảm bảo quyền lợi của mình.']\n"
     ]
    }
   ],
   "source": [
    "from underthesea import word_tokenize\n",
    "from underthesea import sent_tokenize\n",
    "\n",
    "sen = \"Sau 3 trận liên tiếp bị thủng lưới, Real Madrid cuối cùng cũng giữ sạch lưới ở Coliseum nhờ có trận thắng sít sao 1-0 trước Getafe\"\n",
    "corpus = \"\"\"Từ trước đến nay, tiền gửi của người dân tại ngân hàng trong đó có SCB, được nhà nước đảm bảo trong mọi trường hợp, bà Nguyễn Thị Hồng khẳng định.\n",
    "Thống đốc Ngân hàng Nhà nước Nguyễn Thị Hồng sáng 10/10 cho hay, một số thông tin tiêu cực lan truyền vừa qua đã ảnh hưởng đến hoạt động của Ngân hàng Sài Gòn (SCB). Trước tình hình đó, Ngân hàng Nhà nước đã áp dụng các biện pháp cần thiết để SCB hoạt động bình thường, đảm bảo khả năng thanh khoản.\n",
    "Thống đốc cho biết: \"Ở Việt Nam từ trước đến nay, những khoản tiền gửi của người dân tại ngân hàng, trong đó có SCB đều được nhà nước đảm bảo trong mọi trường hợp\". Bà nói những người gửi tiền ở SCB cần hết sức bình tĩnh, không nên rút tiền, nhất là rút trước hạn, để đảm bảo quyền lợi của mình.\"\"\"\n",
    "sentencs = []\n",
    "token_sen = word_tokenize(sen)\n",
    "sentencs.append(token_sen)\n",
    "print(word_tokenize(sen))\n",
    "print(sent_tokenize(corpus))"
   ]
  },
  {
   "cell_type": "markdown",
   "metadata": {},
   "source": [
    "Tạo n-grams"
   ]
  },
  {
   "cell_type": "code",
   "execution_count": 23,
   "metadata": {},
   "outputs": [
    {
     "name": "stdout",
     "output_type": "stream",
     "text": [
      "Requirement already satisfied: nltk in c:\\users\\hieun\\appdata\\local\\programs\\python\\python37\\lib\\site-packages (3.7)\n",
      "Requirement already satisfied: tqdm in c:\\users\\hieun\\appdata\\local\\programs\\python\\python37\\lib\\site-packages (from nltk) (4.64.0)\n",
      "Requirement already satisfied: joblib in c:\\users\\hieun\\appdata\\local\\programs\\python\\python37\\lib\\site-packages (from nltk) (1.1.0)\n",
      "Requirement already satisfied: regex>=2021.8.3 in c:\\users\\hieun\\appdata\\local\\programs\\python\\python37\\lib\\site-packages (from nltk) (2022.6.2)\n",
      "Requirement already satisfied: click in c:\\users\\hieun\\appdata\\local\\programs\\python\\python37\\lib\\site-packages (from nltk) (8.1.3)\n",
      "Requirement already satisfied: importlib-metadata in c:\\users\\hieun\\appdata\\local\\programs\\python\\python37\\lib\\site-packages (from click->nltk) (4.11.4)\n",
      "Requirement already satisfied: colorama in c:\\users\\hieun\\appdata\\local\\programs\\python\\python37\\lib\\site-packages (from click->nltk) (0.4.4)\n",
      "Requirement already satisfied: typing-extensions>=3.6.4 in c:\\users\\hieun\\appdata\\local\\programs\\python\\python37\\lib\\site-packages (from importlib-metadata->click->nltk) (4.1.1)\n",
      "Requirement already satisfied: zipp>=0.5 in c:\\users\\hieun\\appdata\\local\\programs\\python\\python37\\lib\\site-packages (from importlib-metadata->click->nltk) (3.8.0)\n",
      "Note: you may need to restart the kernel to use updated packages.\n"
     ]
    }
   ],
   "source": [
    "%pip install nltk"
   ]
  },
  {
   "cell_type": "code",
   "execution_count": null,
   "metadata": {},
   "outputs": [],
   "source": [
    "import nltk"
   ]
  },
  {
   "cell_type": "code",
   "execution_count": 27,
   "metadata": {},
   "outputs": [
    {
     "name": "stdout",
     "output_type": "stream",
     "text": [
      "Counter({'trận': 2, 'Sau': 1, '3': 1, 'liên tiếp': 1, 'bị': 1, 'thủng lưới': 1, ',': 1, 'Real Madrid': 1, 'cuối cùng': 1, 'cũng': 1, 'giữ': 1, 'sạch': 1, 'lưới': 1, 'ở': 1, 'Coliseum': 1, 'nhờ': 1, 'có': 1, 'thắng': 1, 'sít sao': 1, '1-0': 1, 'trước': 1, 'Getafe': 1})\n"
     ]
    }
   ],
   "source": [
    "#tạo dictionary unigram\n",
    "from collections import Counter\n",
    "counter_unigram = Counter()\n",
    "\n",
    "for i in sentencs:\n",
    "    counter_unigram.update(i)\n",
    "# print(sent_tokenize(corpus))\n",
    "print(counter_unigram)"
   ]
  },
  {
   "cell_type": "code",
   "execution_count": 28,
   "metadata": {},
   "outputs": [
    {
     "name": "stdout",
     "output_type": "stream",
     "text": [
      "[('Sau', '3'), ('3', 'trận'), ('trận', 'liên tiếp'), ('liên tiếp', 'bị'), ('bị', 'thủng lưới'), ('thủng lưới', ','), (',', 'Real Madrid'), ('Real Madrid', 'cuối cùng'), ('cuối cùng', 'cũng'), ('cũng', 'giữ'), ('giữ', 'sạch'), ('sạch', 'lưới'), ('lưới', 'ở'), ('ở', 'Coliseum'), ('Coliseum', 'nhờ'), ('nhờ', 'có'), ('có', 'trận'), ('trận', 'thắng'), ('thắng', 'sít sao'), ('sít sao', '1-0'), ('1-0', 'trước'), ('trước', 'Getafe')]\n"
     ]
    }
   ],
   "source": [
    "#tạo bi grams\n",
    "from nltk import ngrams\n",
    "\n",
    "bigram = []\n",
    "for i in sentencs:\n",
    "    gram2 = ngrams(i, 2)\n",
    "    bigram.extend(gram2)\n",
    "\n",
    "print(bigram)"
   ]
  },
  {
   "cell_type": "code",
   "execution_count": 29,
   "metadata": {},
   "outputs": [
    {
     "name": "stdout",
     "output_type": "stream",
     "text": [
      "[('Sau', '3', 'trận'), ('3', 'trận', 'liên tiếp'), ('trận', 'liên tiếp', 'bị'), ('liên tiếp', 'bị', 'thủng lưới'), ('bị', 'thủng lưới', ','), ('thủng lưới', ',', 'Real Madrid'), (',', 'Real Madrid', 'cuối cùng'), ('Real Madrid', 'cuối cùng', 'cũng'), ('cuối cùng', 'cũng', 'giữ'), ('cũng', 'giữ', 'sạch'), ('giữ', 'sạch', 'lưới'), ('sạch', 'lưới', 'ở'), ('lưới', 'ở', 'Coliseum'), ('ở', 'Coliseum', 'nhờ'), ('Coliseum', 'nhờ', 'có'), ('nhờ', 'có', 'trận'), ('có', 'trận', 'thắng'), ('trận', 'thắng', 'sít sao'), ('thắng', 'sít sao', '1-0'), ('sít sao', '1-0', 'trước'), ('1-0', 'trước', 'Getafe')]\n"
     ]
    }
   ],
   "source": [
    "from nltk import ngrams\n",
    "\n",
    "tri_gram = []\n",
    "for i in sentencs:\n",
    "    gram3 = ngrams(i, 3)\n",
    "    tri_gram.extend(gram3)\n",
    "\n",
    "print(tri_gram)"
   ]
  },
  {
   "cell_type": "markdown",
   "metadata": {},
   "source": [
    "Pos-Tagging"
   ]
  },
  {
   "cell_type": "code",
   "execution_count": 30,
   "metadata": {},
   "outputs": [
    {
     "name": "stdout",
     "output_type": "stream",
     "text": [
      "[('Sau', 'N'), ('3', 'M'), ('trận', 'N'), ('liên tiếp', 'A'), ('bị', 'V'), ('thủng lưới', 'V'), (',', 'CH'), ('Real Madrid', 'Np'), ('cuối cùng', 'A'), ('cũng', 'R'), ('giữ', 'V'), ('sạch', 'A'), ('lưới', 'N'), ('ở', 'E'), ('Coliseum', 'Np'), ('nhờ', 'V'), ('có', 'V'), ('trận', 'N'), ('thắng', 'V'), ('sít sao', 'V'), ('1-0', 'V'), ('trước', 'N'), ('Getafe', 'Np')]\n"
     ]
    }
   ],
   "source": [
    "from underthesea import pos_tag\n",
    "\n",
    "print(pos_tag(sen))"
   ]
  },
  {
   "cell_type": "markdown",
   "metadata": {},
   "source": [
    "Name Entity Recognition"
   ]
  },
  {
   "cell_type": "code",
   "execution_count": 31,
   "metadata": {},
   "outputs": [
    {
     "name": "stdout",
     "output_type": "stream",
     "text": [
      "[('Sau', 'N', 'B-NP', 'O'), ('3', 'M', 'B-NP', 'O'), ('trận', 'N', 'B-NP', 'O'), ('liên tiếp', 'A', 'B-AP', 'O'), ('bị', 'V', 'B-VP', 'O'), ('thủng lưới', 'V', 'B-VP', 'O'), (',', 'CH', 'O', 'O'), ('Real Madrid', 'Np', 'B-NP', 'B-PER'), ('cuối cùng', 'A', 'B-AP', 'O'), ('cũng', 'R', 'O', 'O'), ('giữ', 'V', 'B-VP', 'O'), ('sạch', 'A', 'B-AP', 'O'), ('lưới', 'N', 'B-NP', 'O'), ('ở', 'E', 'B-PP', 'O'), ('Coliseum', 'Np', 'B-NP', 'B-LOC'), ('nhờ', 'V', 'B-VP', 'O'), ('có', 'V', 'B-VP', 'O'), ('trận', 'N', 'B-NP', 'O'), ('thắng', 'V', 'B-VP', 'O'), ('sít sao', 'V', 'B-VP', 'O'), ('1-0', 'V', 'B-VP', 'O'), ('trước', 'N', 'B-NP', 'B-LOC'), ('Getafe', 'Np', 'B-NP', 'I-LOC')]\n"
     ]
    }
   ],
   "source": [
    "from underthesea import ner\n",
    "\n",
    "print(ner(sen))"
   ]
  },
  {
   "cell_type": "markdown",
   "metadata": {},
   "source": [
    "Parsing"
   ]
  },
  {
   "cell_type": "code",
   "execution_count": 35,
   "metadata": {},
   "outputs": [
    {
     "name": "stdout",
     "output_type": "stream",
     "text": [
      "Requirement already satisfied: underthesea[deep] in c:\\users\\hieun\\appdata\\local\\programs\\python\\python37\\lib\\site-packages (1.3.4)\n",
      "Requirement already satisfied: underthesea-core==0.0.4_alpha.10 in c:\\users\\hieun\\appdata\\local\\programs\\python\\python37\\lib\\site-packages (from underthesea[deep]) (0.0.4a10)\n",
      "Requirement already satisfied: unidecode in c:\\users\\hieun\\appdata\\local\\programs\\python\\python37\\lib\\site-packages (from underthesea[deep]) (1.3.4)\n",
      "Requirement already satisfied: python-crfsuite>=0.9.6 in c:\\users\\hieun\\appdata\\local\\programs\\python\\python37\\lib\\site-packages (from underthesea[deep]) (0.9.8)\n",
      "Requirement already satisfied: requests in c:\\users\\hieun\\appdata\\local\\programs\\python\\python37\\lib\\site-packages (from underthesea[deep]) (2.27.1)\n",
      "Requirement already satisfied: PyYAML in c:\\users\\hieun\\appdata\\local\\programs\\python\\python37\\lib\\site-packages (from underthesea[deep]) (6.0)\n",
      "Requirement already satisfied: Click>=6.0 in c:\\users\\hieun\\appdata\\local\\programs\\python\\python37\\lib\\site-packages (from underthesea[deep]) (8.1.3)\n",
      "Requirement already satisfied: nltk in c:\\users\\hieun\\appdata\\local\\programs\\python\\python37\\lib\\site-packages (from underthesea[deep]) (3.7)\n",
      "Requirement already satisfied: tqdm in c:\\users\\hieun\\appdata\\local\\programs\\python\\python37\\lib\\site-packages (from underthesea[deep]) (4.64.0)\n",
      "Requirement already satisfied: scikit-learn in c:\\users\\hieun\\appdata\\local\\programs\\python\\python37\\lib\\site-packages (from underthesea[deep]) (0.22.2)\n",
      "Requirement already satisfied: joblib in c:\\users\\hieun\\appdata\\local\\programs\\python\\python37\\lib\\site-packages (from underthesea[deep]) (1.1.0)\n",
      "Requirement already satisfied: transformers>=3.5.0 in c:\\users\\hieun\\appdata\\local\\programs\\python\\python37\\lib\\site-packages (from underthesea[deep]) (4.19.2)\n",
      "Requirement already satisfied: torch>=1.1.0 in c:\\users\\hieun\\appdata\\local\\programs\\python\\python37\\lib\\site-packages (from underthesea[deep]) (1.11.0)\n",
      "Requirement already satisfied: colorama in c:\\users\\hieun\\appdata\\local\\programs\\python\\python37\\lib\\site-packages (from Click>=6.0->underthesea[deep]) (0.4.4)\n",
      "Requirement already satisfied: importlib-metadata in c:\\users\\hieun\\appdata\\local\\programs\\python\\python37\\lib\\site-packages (from Click>=6.0->underthesea[deep]) (4.11.4)\n",
      "Requirement already satisfied: typing-extensions in c:\\users\\hieun\\appdata\\local\\programs\\python\\python37\\lib\\site-packages (from torch>=1.1.0->underthesea[deep]) (4.1.1)\n",
      "Requirement already satisfied: tokenizers!=0.11.3,<0.13,>=0.11.1 in c:\\users\\hieun\\appdata\\local\\programs\\python\\python37\\lib\\site-packages (from transformers>=3.5.0->underthesea[deep]) (0.12.1)\n",
      "Requirement already satisfied: filelock in c:\\users\\hieun\\appdata\\local\\programs\\python\\python37\\lib\\site-packages (from transformers>=3.5.0->underthesea[deep]) (3.7.1)\n",
      "Requirement already satisfied: regex!=2019.12.17 in c:\\users\\hieun\\appdata\\local\\programs\\python\\python37\\lib\\site-packages (from transformers>=3.5.0->underthesea[deep]) (2022.6.2)\n",
      "Requirement already satisfied: huggingface-hub<1.0,>=0.1.0 in c:\\users\\hieun\\appdata\\local\\programs\\python\\python37\\lib\\site-packages (from transformers>=3.5.0->underthesea[deep]) (0.7.0)\n",
      "Requirement already satisfied: packaging>=20.0 in c:\\users\\hieun\\appdata\\local\\programs\\python\\python37\\lib\\site-packages (from transformers>=3.5.0->underthesea[deep]) (21.3)\n",
      "Requirement already satisfied: numpy>=1.17 in c:\\users\\hieun\\appdata\\local\\programs\\python\\python37\\lib\\site-packages (from transformers>=3.5.0->underthesea[deep]) (1.21.6)\n",
      "Requirement already satisfied: idna<4,>=2.5 in c:\\users\\hieun\\appdata\\local\\programs\\python\\python37\\lib\\site-packages (from requests->underthesea[deep]) (3.3)\n",
      "Requirement already satisfied: certifi>=2017.4.17 in c:\\users\\hieun\\appdata\\local\\programs\\python\\python37\\lib\\site-packages (from requests->underthesea[deep]) (2022.5.18.1)\n",
      "Requirement already satisfied: charset-normalizer~=2.0.0 in c:\\users\\hieun\\appdata\\local\\programs\\python\\python37\\lib\\site-packages (from requests->underthesea[deep]) (2.0.12)\n",
      "Requirement already satisfied: urllib3<1.27,>=1.21.1 in c:\\users\\hieun\\appdata\\local\\programs\\python\\python37\\lib\\site-packages (from requests->underthesea[deep]) (1.26.9)\n",
      "Requirement already satisfied: scipy>=0.17.0 in c:\\users\\hieun\\appdata\\local\\programs\\python\\python37\\lib\\site-packages (from scikit-learn->underthesea[deep]) (1.7.3)\n",
      "Requirement already satisfied: pyparsing!=3.0.5,>=2.0.2 in c:\\users\\hieun\\appdata\\local\\programs\\python\\python37\\lib\\site-packages (from packaging>=20.0->transformers>=3.5.0->underthesea[deep]) (3.0.9)\n",
      "Requirement already satisfied: zipp>=0.5 in c:\\users\\hieun\\appdata\\local\\programs\\python\\python37\\lib\\site-packages (from importlib-metadata->Click>=6.0->underthesea[deep]) (3.8.0)\n",
      "Note: you may need to restart the kernel to use updated packages.\n"
     ]
    }
   ],
   "source": [
    "%pip install underthesea[deep]"
   ]
  },
  {
   "cell_type": "code",
   "execution_count": 36,
   "metadata": {},
   "outputs": [
    {
     "name": "stderr",
     "output_type": "stream",
     "text": [
      "Downloading: \"https://github.com/undertheseanlp/underthesea/releases/download/v1.3-resources/vi-dp-v1a1.zip\" to C:\\Users\\hieun/.cache\\torch\\hub\\checkpoints\\vi-dp-v1a1.zip\n"
     ]
    },
    {
     "ename": "HTTPError",
     "evalue": "HTTP Error 404: Not Found",
     "output_type": "error",
     "traceback": [
      "\u001b[1;31m---------------------------------------------------------------------------\u001b[0m",
      "\u001b[1;31mHTTPError\u001b[0m                                 Traceback (most recent call last)",
      "\u001b[1;32m~\\AppData\\Local\\Temp\\ipykernel_4520\\1454083288.py\u001b[0m in \u001b[0;36m<module>\u001b[1;34m\u001b[0m\n\u001b[0;32m      1\u001b[0m \u001b[1;32mfrom\u001b[0m \u001b[0munderthesea\u001b[0m \u001b[1;32mimport\u001b[0m \u001b[0mdependency_parse\u001b[0m\u001b[1;33m\u001b[0m\u001b[1;33m\u001b[0m\u001b[0m\n\u001b[0;32m      2\u001b[0m \u001b[1;33m\u001b[0m\u001b[0m\n\u001b[1;32m----> 3\u001b[1;33m \u001b[0mprint\u001b[0m\u001b[1;33m(\u001b[0m\u001b[0mdependency_parse\u001b[0m\u001b[1;33m(\u001b[0m\u001b[0msen\u001b[0m\u001b[1;33m)\u001b[0m\u001b[1;33m)\u001b[0m\u001b[1;33m\u001b[0m\u001b[1;33m\u001b[0m\u001b[0m\n\u001b[0m",
      "\u001b[1;32mc:\\Users\\hieun\\AppData\\Local\\Programs\\Python\\Python37\\lib\\site-packages\\underthesea\\__init__.py\u001b[0m in \u001b[0;36mdependency_parse\u001b[1;34m(*args, **kwargs)\u001b[0m\n\u001b[0;32m     50\u001b[0m \u001b[1;32mdef\u001b[0m \u001b[0mdependency_parse\u001b[0m\u001b[1;33m(\u001b[0m\u001b[1;33m*\u001b[0m\u001b[0margs\u001b[0m\u001b[1;33m,\u001b[0m \u001b[1;33m**\u001b[0m\u001b[0mkwargs\u001b[0m\u001b[1;33m)\u001b[0m\u001b[1;33m:\u001b[0m\u001b[1;33m\u001b[0m\u001b[1;33m\u001b[0m\u001b[0m\n\u001b[0;32m     51\u001b[0m     \u001b[1;32mfrom\u001b[0m \u001b[0munderthesea\u001b[0m\u001b[1;33m.\u001b[0m\u001b[0mpipeline\u001b[0m\u001b[1;33m.\u001b[0m\u001b[0mdependency_parse\u001b[0m \u001b[1;32mimport\u001b[0m \u001b[0mdependency_parse\u001b[0m\u001b[1;33m\u001b[0m\u001b[1;33m\u001b[0m\u001b[0m\n\u001b[1;32m---> 52\u001b[1;33m     \u001b[1;32mreturn\u001b[0m \u001b[0mdependency_parse\u001b[0m\u001b[1;33m(\u001b[0m\u001b[1;33m*\u001b[0m\u001b[0margs\u001b[0m\u001b[1;33m,\u001b[0m \u001b[1;33m**\u001b[0m\u001b[0mkwargs\u001b[0m\u001b[1;33m)\u001b[0m\u001b[1;33m\u001b[0m\u001b[1;33m\u001b[0m\u001b[0m\n\u001b[0m\u001b[0;32m     53\u001b[0m \u001b[1;33m\u001b[0m\u001b[0m\n\u001b[0;32m     54\u001b[0m \u001b[1;33m\u001b[0m\u001b[0m\n",
      "\u001b[1;32mc:\\Users\\hieun\\AppData\\Local\\Programs\\Python\\Python37\\lib\\site-packages\\underthesea\\pipeline\\dependency_parse\\__init__.py\u001b[0m in \u001b[0;36mdependency_parse\u001b[1;34m(text)\u001b[0m\n\u001b[0;32m     14\u001b[0m \u001b[1;32mdef\u001b[0m \u001b[0mdependency_parse\u001b[0m\u001b[1;33m(\u001b[0m\u001b[0mtext\u001b[0m\u001b[1;33m)\u001b[0m\u001b[1;33m:\u001b[0m\u001b[1;33m\u001b[0m\u001b[1;33m\u001b[0m\u001b[0m\n\u001b[0;32m     15\u001b[0m     \u001b[0msentence\u001b[0m \u001b[1;33m=\u001b[0m \u001b[0mword_tokenize\u001b[0m\u001b[1;33m(\u001b[0m\u001b[0mtext\u001b[0m\u001b[1;33m)\u001b[0m\u001b[1;33m\u001b[0m\u001b[1;33m\u001b[0m\u001b[0m\n\u001b[1;32m---> 16\u001b[1;33m     \u001b[0mparser\u001b[0m \u001b[1;33m=\u001b[0m \u001b[0minit_parser\u001b[0m\u001b[1;33m(\u001b[0m\u001b[1;33m)\u001b[0m\u001b[1;33m\u001b[0m\u001b[1;33m\u001b[0m\u001b[0m\n\u001b[0m\u001b[0;32m     17\u001b[0m     \u001b[0mdataset\u001b[0m \u001b[1;33m=\u001b[0m \u001b[0mparser\u001b[0m\u001b[1;33m.\u001b[0m\u001b[0mpredict\u001b[0m\u001b[1;33m(\u001b[0m\u001b[1;33m[\u001b[0m\u001b[0msentence\u001b[0m\u001b[1;33m]\u001b[0m\u001b[1;33m)\u001b[0m\u001b[1;33m\u001b[0m\u001b[1;33m\u001b[0m\u001b[0m\n\u001b[0;32m     18\u001b[0m     \u001b[0mresults\u001b[0m \u001b[1;33m=\u001b[0m \u001b[0mdataset\u001b[0m\u001b[1;33m.\u001b[0m\u001b[0msentences\u001b[0m\u001b[1;33m[\u001b[0m\u001b[1;36m0\u001b[0m\u001b[1;33m]\u001b[0m\u001b[1;33m.\u001b[0m\u001b[0mvalues\u001b[0m\u001b[1;33m\u001b[0m\u001b[1;33m\u001b[0m\u001b[0m\n",
      "\u001b[1;32mc:\\Users\\hieun\\AppData\\Local\\Programs\\Python\\Python37\\lib\\site-packages\\underthesea\\pipeline\\dependency_parse\\__init__.py\u001b[0m in \u001b[0;36minit_parser\u001b[1;34m()\u001b[0m\n\u001b[0;32m      8\u001b[0m     \u001b[1;32mglobal\u001b[0m \u001b[0muts_parser\u001b[0m\u001b[1;33m\u001b[0m\u001b[1;33m\u001b[0m\u001b[0m\n\u001b[0;32m      9\u001b[0m     \u001b[1;32mif\u001b[0m \u001b[1;32mnot\u001b[0m \u001b[0muts_parser\u001b[0m\u001b[1;33m:\u001b[0m\u001b[1;33m\u001b[0m\u001b[1;33m\u001b[0m\u001b[0m\n\u001b[1;32m---> 10\u001b[1;33m         \u001b[0muts_parser\u001b[0m \u001b[1;33m=\u001b[0m \u001b[0mDependencyParser\u001b[0m\u001b[1;33m.\u001b[0m\u001b[0mload\u001b[0m\u001b[1;33m(\u001b[0m\u001b[1;34m'vi-dp-v1a1'\u001b[0m\u001b[1;33m)\u001b[0m\u001b[1;33m\u001b[0m\u001b[1;33m\u001b[0m\u001b[0m\n\u001b[0m\u001b[0;32m     11\u001b[0m     \u001b[1;32mreturn\u001b[0m \u001b[0muts_parser\u001b[0m\u001b[1;33m\u001b[0m\u001b[1;33m\u001b[0m\u001b[0m\n\u001b[0;32m     12\u001b[0m \u001b[1;33m\u001b[0m\u001b[0m\n",
      "\u001b[1;32mc:\\Users\\hieun\\AppData\\Local\\Programs\\Python\\Python37\\lib\\site-packages\\underthesea\\models\\dependency_parser.py\u001b[0m in \u001b[0;36mload\u001b[1;34m(cls, path)\u001b[0m\n\u001b[0;32m    301\u001b[0m         \u001b[1;32melse\u001b[0m\u001b[1;33m:\u001b[0m\u001b[1;33m\u001b[0m\u001b[1;33m\u001b[0m\u001b[0m\n\u001b[0;32m    302\u001b[0m             \u001b[0mpath\u001b[0m \u001b[1;33m=\u001b[0m \u001b[0mPRETRAINED\u001b[0m\u001b[1;33m[\u001b[0m\u001b[0mpath\u001b[0m\u001b[1;33m]\u001b[0m \u001b[1;32mif\u001b[0m \u001b[0mpath\u001b[0m \u001b[1;32min\u001b[0m \u001b[0mPRETRAINED\u001b[0m \u001b[1;32melse\u001b[0m \u001b[0mpath\u001b[0m\u001b[1;33m\u001b[0m\u001b[1;33m\u001b[0m\u001b[0m\n\u001b[1;32m--> 303\u001b[1;33m             \u001b[0mstate\u001b[0m \u001b[1;33m=\u001b[0m \u001b[0mtorch\u001b[0m\u001b[1;33m.\u001b[0m\u001b[0mhub\u001b[0m\u001b[1;33m.\u001b[0m\u001b[0mload_state_dict_from_url\u001b[0m\u001b[1;33m(\u001b[0m\u001b[0mpath\u001b[0m\u001b[1;33m)\u001b[0m\u001b[1;33m\u001b[0m\u001b[1;33m\u001b[0m\u001b[0m\n\u001b[0m\u001b[0;32m    304\u001b[0m \u001b[1;33m\u001b[0m\u001b[0m\n\u001b[0;32m    305\u001b[0m         \u001b[0mmodel\u001b[0m \u001b[1;33m=\u001b[0m \u001b[0mcls\u001b[0m\u001b[1;33m.\u001b[0m\u001b[0m_init_model_with_state_dict\u001b[0m\u001b[1;33m(\u001b[0m\u001b[0mstate\u001b[0m\u001b[1;33m)\u001b[0m\u001b[1;33m\u001b[0m\u001b[1;33m\u001b[0m\u001b[0m\n",
      "\u001b[1;32mc:\\Users\\hieun\\AppData\\Local\\Programs\\Python\\Python37\\lib\\site-packages\\torch\\hub.py\u001b[0m in \u001b[0;36mload_state_dict_from_url\u001b[1;34m(url, model_dir, map_location, progress, check_hash, file_name)\u001b[0m\n\u001b[0;32m    589\u001b[0m             \u001b[0mr\u001b[0m \u001b[1;33m=\u001b[0m \u001b[0mHASH_REGEX\u001b[0m\u001b[1;33m.\u001b[0m\u001b[0msearch\u001b[0m\u001b[1;33m(\u001b[0m\u001b[0mfilename\u001b[0m\u001b[1;33m)\u001b[0m  \u001b[1;31m# r is Optional[Match[str]]\u001b[0m\u001b[1;33m\u001b[0m\u001b[1;33m\u001b[0m\u001b[0m\n\u001b[0;32m    590\u001b[0m             \u001b[0mhash_prefix\u001b[0m \u001b[1;33m=\u001b[0m \u001b[0mr\u001b[0m\u001b[1;33m.\u001b[0m\u001b[0mgroup\u001b[0m\u001b[1;33m(\u001b[0m\u001b[1;36m1\u001b[0m\u001b[1;33m)\u001b[0m \u001b[1;32mif\u001b[0m \u001b[0mr\u001b[0m \u001b[1;32melse\u001b[0m \u001b[1;32mNone\u001b[0m\u001b[1;33m\u001b[0m\u001b[1;33m\u001b[0m\u001b[0m\n\u001b[1;32m--> 591\u001b[1;33m         \u001b[0mdownload_url_to_file\u001b[0m\u001b[1;33m(\u001b[0m\u001b[0murl\u001b[0m\u001b[1;33m,\u001b[0m \u001b[0mcached_file\u001b[0m\u001b[1;33m,\u001b[0m \u001b[0mhash_prefix\u001b[0m\u001b[1;33m,\u001b[0m \u001b[0mprogress\u001b[0m\u001b[1;33m=\u001b[0m\u001b[0mprogress\u001b[0m\u001b[1;33m)\u001b[0m\u001b[1;33m\u001b[0m\u001b[1;33m\u001b[0m\u001b[0m\n\u001b[0m\u001b[0;32m    592\u001b[0m \u001b[1;33m\u001b[0m\u001b[0m\n\u001b[0;32m    593\u001b[0m     \u001b[1;32mif\u001b[0m \u001b[0m_is_legacy_zip_format\u001b[0m\u001b[1;33m(\u001b[0m\u001b[0mcached_file\u001b[0m\u001b[1;33m)\u001b[0m\u001b[1;33m:\u001b[0m\u001b[1;33m\u001b[0m\u001b[1;33m\u001b[0m\u001b[0m\n",
      "\u001b[1;32mc:\\Users\\hieun\\AppData\\Local\\Programs\\Python\\Python37\\lib\\site-packages\\torch\\hub.py\u001b[0m in \u001b[0;36mdownload_url_to_file\u001b[1;34m(url, dst, hash_prefix, progress)\u001b[0m\n\u001b[0;32m    455\u001b[0m     \u001b[0mfile_size\u001b[0m \u001b[1;33m=\u001b[0m \u001b[1;32mNone\u001b[0m\u001b[1;33m\u001b[0m\u001b[1;33m\u001b[0m\u001b[0m\n\u001b[0;32m    456\u001b[0m     \u001b[0mreq\u001b[0m \u001b[1;33m=\u001b[0m \u001b[0mRequest\u001b[0m\u001b[1;33m(\u001b[0m\u001b[0murl\u001b[0m\u001b[1;33m,\u001b[0m \u001b[0mheaders\u001b[0m\u001b[1;33m=\u001b[0m\u001b[1;33m{\u001b[0m\u001b[1;34m\"User-Agent\"\u001b[0m\u001b[1;33m:\u001b[0m \u001b[1;34m\"torch.hub\"\u001b[0m\u001b[1;33m}\u001b[0m\u001b[1;33m)\u001b[0m\u001b[1;33m\u001b[0m\u001b[1;33m\u001b[0m\u001b[0m\n\u001b[1;32m--> 457\u001b[1;33m     \u001b[0mu\u001b[0m \u001b[1;33m=\u001b[0m \u001b[0murlopen\u001b[0m\u001b[1;33m(\u001b[0m\u001b[0mreq\u001b[0m\u001b[1;33m)\u001b[0m\u001b[1;33m\u001b[0m\u001b[1;33m\u001b[0m\u001b[0m\n\u001b[0m\u001b[0;32m    458\u001b[0m     \u001b[0mmeta\u001b[0m \u001b[1;33m=\u001b[0m \u001b[0mu\u001b[0m\u001b[1;33m.\u001b[0m\u001b[0minfo\u001b[0m\u001b[1;33m(\u001b[0m\u001b[1;33m)\u001b[0m\u001b[1;33m\u001b[0m\u001b[1;33m\u001b[0m\u001b[0m\n\u001b[0;32m    459\u001b[0m     \u001b[1;32mif\u001b[0m \u001b[0mhasattr\u001b[0m\u001b[1;33m(\u001b[0m\u001b[0mmeta\u001b[0m\u001b[1;33m,\u001b[0m \u001b[1;34m'getheaders'\u001b[0m\u001b[1;33m)\u001b[0m\u001b[1;33m:\u001b[0m\u001b[1;33m\u001b[0m\u001b[1;33m\u001b[0m\u001b[0m\n",
      "\u001b[1;32mc:\\Users\\hieun\\AppData\\Local\\Programs\\Python\\Python37\\lib\\urllib\\request.py\u001b[0m in \u001b[0;36murlopen\u001b[1;34m(url, data, timeout, cafile, capath, cadefault, context)\u001b[0m\n\u001b[0;32m    220\u001b[0m     \u001b[1;32melse\u001b[0m\u001b[1;33m:\u001b[0m\u001b[1;33m\u001b[0m\u001b[1;33m\u001b[0m\u001b[0m\n\u001b[0;32m    221\u001b[0m         \u001b[0mopener\u001b[0m \u001b[1;33m=\u001b[0m \u001b[0m_opener\u001b[0m\u001b[1;33m\u001b[0m\u001b[1;33m\u001b[0m\u001b[0m\n\u001b[1;32m--> 222\u001b[1;33m     \u001b[1;32mreturn\u001b[0m \u001b[0mopener\u001b[0m\u001b[1;33m.\u001b[0m\u001b[0mopen\u001b[0m\u001b[1;33m(\u001b[0m\u001b[0murl\u001b[0m\u001b[1;33m,\u001b[0m \u001b[0mdata\u001b[0m\u001b[1;33m,\u001b[0m \u001b[0mtimeout\u001b[0m\u001b[1;33m)\u001b[0m\u001b[1;33m\u001b[0m\u001b[1;33m\u001b[0m\u001b[0m\n\u001b[0m\u001b[0;32m    223\u001b[0m \u001b[1;33m\u001b[0m\u001b[0m\n\u001b[0;32m    224\u001b[0m \u001b[1;32mdef\u001b[0m \u001b[0minstall_opener\u001b[0m\u001b[1;33m(\u001b[0m\u001b[0mopener\u001b[0m\u001b[1;33m)\u001b[0m\u001b[1;33m:\u001b[0m\u001b[1;33m\u001b[0m\u001b[1;33m\u001b[0m\u001b[0m\n",
      "\u001b[1;32mc:\\Users\\hieun\\AppData\\Local\\Programs\\Python\\Python37\\lib\\urllib\\request.py\u001b[0m in \u001b[0;36mopen\u001b[1;34m(self, fullurl, data, timeout)\u001b[0m\n\u001b[0;32m    529\u001b[0m         \u001b[1;32mfor\u001b[0m \u001b[0mprocessor\u001b[0m \u001b[1;32min\u001b[0m \u001b[0mself\u001b[0m\u001b[1;33m.\u001b[0m\u001b[0mprocess_response\u001b[0m\u001b[1;33m.\u001b[0m\u001b[0mget\u001b[0m\u001b[1;33m(\u001b[0m\u001b[0mprotocol\u001b[0m\u001b[1;33m,\u001b[0m \u001b[1;33m[\u001b[0m\u001b[1;33m]\u001b[0m\u001b[1;33m)\u001b[0m\u001b[1;33m:\u001b[0m\u001b[1;33m\u001b[0m\u001b[1;33m\u001b[0m\u001b[0m\n\u001b[0;32m    530\u001b[0m             \u001b[0mmeth\u001b[0m \u001b[1;33m=\u001b[0m \u001b[0mgetattr\u001b[0m\u001b[1;33m(\u001b[0m\u001b[0mprocessor\u001b[0m\u001b[1;33m,\u001b[0m \u001b[0mmeth_name\u001b[0m\u001b[1;33m)\u001b[0m\u001b[1;33m\u001b[0m\u001b[1;33m\u001b[0m\u001b[0m\n\u001b[1;32m--> 531\u001b[1;33m             \u001b[0mresponse\u001b[0m \u001b[1;33m=\u001b[0m \u001b[0mmeth\u001b[0m\u001b[1;33m(\u001b[0m\u001b[0mreq\u001b[0m\u001b[1;33m,\u001b[0m \u001b[0mresponse\u001b[0m\u001b[1;33m)\u001b[0m\u001b[1;33m\u001b[0m\u001b[1;33m\u001b[0m\u001b[0m\n\u001b[0m\u001b[0;32m    532\u001b[0m \u001b[1;33m\u001b[0m\u001b[0m\n\u001b[0;32m    533\u001b[0m         \u001b[1;32mreturn\u001b[0m \u001b[0mresponse\u001b[0m\u001b[1;33m\u001b[0m\u001b[1;33m\u001b[0m\u001b[0m\n",
      "\u001b[1;32mc:\\Users\\hieun\\AppData\\Local\\Programs\\Python\\Python37\\lib\\urllib\\request.py\u001b[0m in \u001b[0;36mhttp_response\u001b[1;34m(self, request, response)\u001b[0m\n\u001b[0;32m    639\u001b[0m         \u001b[1;32mif\u001b[0m \u001b[1;32mnot\u001b[0m \u001b[1;33m(\u001b[0m\u001b[1;36m200\u001b[0m \u001b[1;33m<=\u001b[0m \u001b[0mcode\u001b[0m \u001b[1;33m<\u001b[0m \u001b[1;36m300\u001b[0m\u001b[1;33m)\u001b[0m\u001b[1;33m:\u001b[0m\u001b[1;33m\u001b[0m\u001b[1;33m\u001b[0m\u001b[0m\n\u001b[0;32m    640\u001b[0m             response = self.parent.error(\n\u001b[1;32m--> 641\u001b[1;33m                 'http', request, response, code, msg, hdrs)\n\u001b[0m\u001b[0;32m    642\u001b[0m \u001b[1;33m\u001b[0m\u001b[0m\n\u001b[0;32m    643\u001b[0m         \u001b[1;32mreturn\u001b[0m \u001b[0mresponse\u001b[0m\u001b[1;33m\u001b[0m\u001b[1;33m\u001b[0m\u001b[0m\n",
      "\u001b[1;32mc:\\Users\\hieun\\AppData\\Local\\Programs\\Python\\Python37\\lib\\urllib\\request.py\u001b[0m in \u001b[0;36merror\u001b[1;34m(self, proto, *args)\u001b[0m\n\u001b[0;32m    567\u001b[0m         \u001b[1;32mif\u001b[0m \u001b[0mhttp_err\u001b[0m\u001b[1;33m:\u001b[0m\u001b[1;33m\u001b[0m\u001b[1;33m\u001b[0m\u001b[0m\n\u001b[0;32m    568\u001b[0m             \u001b[0margs\u001b[0m \u001b[1;33m=\u001b[0m \u001b[1;33m(\u001b[0m\u001b[0mdict\u001b[0m\u001b[1;33m,\u001b[0m \u001b[1;34m'default'\u001b[0m\u001b[1;33m,\u001b[0m \u001b[1;34m'http_error_default'\u001b[0m\u001b[1;33m)\u001b[0m \u001b[1;33m+\u001b[0m \u001b[0morig_args\u001b[0m\u001b[1;33m\u001b[0m\u001b[1;33m\u001b[0m\u001b[0m\n\u001b[1;32m--> 569\u001b[1;33m             \u001b[1;32mreturn\u001b[0m \u001b[0mself\u001b[0m\u001b[1;33m.\u001b[0m\u001b[0m_call_chain\u001b[0m\u001b[1;33m(\u001b[0m\u001b[1;33m*\u001b[0m\u001b[0margs\u001b[0m\u001b[1;33m)\u001b[0m\u001b[1;33m\u001b[0m\u001b[1;33m\u001b[0m\u001b[0m\n\u001b[0m\u001b[0;32m    570\u001b[0m \u001b[1;33m\u001b[0m\u001b[0m\n\u001b[0;32m    571\u001b[0m \u001b[1;31m# XXX probably also want an abstract factory that knows when it makes\u001b[0m\u001b[1;33m\u001b[0m\u001b[1;33m\u001b[0m\u001b[1;33m\u001b[0m\u001b[0m\n",
      "\u001b[1;32mc:\\Users\\hieun\\AppData\\Local\\Programs\\Python\\Python37\\lib\\urllib\\request.py\u001b[0m in \u001b[0;36m_call_chain\u001b[1;34m(self, chain, kind, meth_name, *args)\u001b[0m\n\u001b[0;32m    501\u001b[0m         \u001b[1;32mfor\u001b[0m \u001b[0mhandler\u001b[0m \u001b[1;32min\u001b[0m \u001b[0mhandlers\u001b[0m\u001b[1;33m:\u001b[0m\u001b[1;33m\u001b[0m\u001b[1;33m\u001b[0m\u001b[0m\n\u001b[0;32m    502\u001b[0m             \u001b[0mfunc\u001b[0m \u001b[1;33m=\u001b[0m \u001b[0mgetattr\u001b[0m\u001b[1;33m(\u001b[0m\u001b[0mhandler\u001b[0m\u001b[1;33m,\u001b[0m \u001b[0mmeth_name\u001b[0m\u001b[1;33m)\u001b[0m\u001b[1;33m\u001b[0m\u001b[1;33m\u001b[0m\u001b[0m\n\u001b[1;32m--> 503\u001b[1;33m             \u001b[0mresult\u001b[0m \u001b[1;33m=\u001b[0m \u001b[0mfunc\u001b[0m\u001b[1;33m(\u001b[0m\u001b[1;33m*\u001b[0m\u001b[0margs\u001b[0m\u001b[1;33m)\u001b[0m\u001b[1;33m\u001b[0m\u001b[1;33m\u001b[0m\u001b[0m\n\u001b[0m\u001b[0;32m    504\u001b[0m             \u001b[1;32mif\u001b[0m \u001b[0mresult\u001b[0m \u001b[1;32mis\u001b[0m \u001b[1;32mnot\u001b[0m \u001b[1;32mNone\u001b[0m\u001b[1;33m:\u001b[0m\u001b[1;33m\u001b[0m\u001b[1;33m\u001b[0m\u001b[0m\n\u001b[0;32m    505\u001b[0m                 \u001b[1;32mreturn\u001b[0m \u001b[0mresult\u001b[0m\u001b[1;33m\u001b[0m\u001b[1;33m\u001b[0m\u001b[0m\n",
      "\u001b[1;32mc:\\Users\\hieun\\AppData\\Local\\Programs\\Python\\Python37\\lib\\urllib\\request.py\u001b[0m in \u001b[0;36mhttp_error_default\u001b[1;34m(self, req, fp, code, msg, hdrs)\u001b[0m\n\u001b[0;32m    647\u001b[0m \u001b[1;32mclass\u001b[0m \u001b[0mHTTPDefaultErrorHandler\u001b[0m\u001b[1;33m(\u001b[0m\u001b[0mBaseHandler\u001b[0m\u001b[1;33m)\u001b[0m\u001b[1;33m:\u001b[0m\u001b[1;33m\u001b[0m\u001b[1;33m\u001b[0m\u001b[0m\n\u001b[0;32m    648\u001b[0m     \u001b[1;32mdef\u001b[0m \u001b[0mhttp_error_default\u001b[0m\u001b[1;33m(\u001b[0m\u001b[0mself\u001b[0m\u001b[1;33m,\u001b[0m \u001b[0mreq\u001b[0m\u001b[1;33m,\u001b[0m \u001b[0mfp\u001b[0m\u001b[1;33m,\u001b[0m \u001b[0mcode\u001b[0m\u001b[1;33m,\u001b[0m \u001b[0mmsg\u001b[0m\u001b[1;33m,\u001b[0m \u001b[0mhdrs\u001b[0m\u001b[1;33m)\u001b[0m\u001b[1;33m:\u001b[0m\u001b[1;33m\u001b[0m\u001b[1;33m\u001b[0m\u001b[0m\n\u001b[1;32m--> 649\u001b[1;33m         \u001b[1;32mraise\u001b[0m \u001b[0mHTTPError\u001b[0m\u001b[1;33m(\u001b[0m\u001b[0mreq\u001b[0m\u001b[1;33m.\u001b[0m\u001b[0mfull_url\u001b[0m\u001b[1;33m,\u001b[0m \u001b[0mcode\u001b[0m\u001b[1;33m,\u001b[0m \u001b[0mmsg\u001b[0m\u001b[1;33m,\u001b[0m \u001b[0mhdrs\u001b[0m\u001b[1;33m,\u001b[0m \u001b[0mfp\u001b[0m\u001b[1;33m)\u001b[0m\u001b[1;33m\u001b[0m\u001b[1;33m\u001b[0m\u001b[0m\n\u001b[0m\u001b[0;32m    650\u001b[0m \u001b[1;33m\u001b[0m\u001b[0m\n\u001b[0;32m    651\u001b[0m \u001b[1;32mclass\u001b[0m \u001b[0mHTTPRedirectHandler\u001b[0m\u001b[1;33m(\u001b[0m\u001b[0mBaseHandler\u001b[0m\u001b[1;33m)\u001b[0m\u001b[1;33m:\u001b[0m\u001b[1;33m\u001b[0m\u001b[1;33m\u001b[0m\u001b[0m\n",
      "\u001b[1;31mHTTPError\u001b[0m: HTTP Error 404: Not Found"
     ]
    }
   ],
   "source": [
    "from underthesea import dependency_parse\n",
    "\n",
    "print(dependency_parse(sen))"
   ]
  }
 ],
 "metadata": {
  "kernelspec": {
   "display_name": "Python 3.7.9 64-bit",
   "language": "python",
   "name": "python3"
  },
  "language_info": {
   "codemirror_mode": {
    "name": "ipython",
    "version": 3
   },
   "file_extension": ".py",
   "mimetype": "text/x-python",
   "name": "python",
   "nbconvert_exporter": "python",
   "pygments_lexer": "ipython3",
   "version": "3.7.9"
  },
  "orig_nbformat": 4,
  "vscode": {
   "interpreter": {
    "hash": "d65b2b009303c0af65e9c9d4be8f26c2c45182fd085ae18c2ed3b904a6fa84e8"
   }
  }
 },
 "nbformat": 4,
 "nbformat_minor": 2
}
