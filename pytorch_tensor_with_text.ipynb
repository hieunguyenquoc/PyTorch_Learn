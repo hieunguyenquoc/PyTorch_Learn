{
 "cells": [
  {
   "cell_type": "markdown",
   "metadata": {},
   "source": [
    "Xử lý với dữ liệu dạng text"
   ]
  },
  {
   "cell_type": "code",
   "execution_count": 2,
   "metadata": {},
   "outputs": [],
   "source": [
    "f = open(\"data/1342-0.txt\",\"r\",encoding=\"utf-8\")\n",
    "text = f.read()"
   ]
  },
  {
   "cell_type": "code",
   "execution_count": 11,
   "metadata": {},
   "outputs": [
    {
     "name": "stdout",
     "output_type": "stream",
     "text": [
      "      Michaelmas, and some of his servants are to be in the house by\n",
      "torch.Size([68, 128])\n"
     ]
    }
   ],
   "source": [
    "import torch\n",
    "\n",
    "#tách thành các câu\n",
    "lines = text.split(\"\\n\")\n",
    "line = lines[200]\n",
    "print(line)\n",
    "\n",
    "#tạo tensor để chứa vecto one hot\n",
    "letter_tensor = torch.zeros(len(line),128)\n",
    "print(letter_tensor.shape)\n",
    "\n"
   ]
  },
  {
   "cell_type": "code",
   "execution_count": 19,
   "metadata": {},
   "outputs": [],
   "source": [
    "#tạo vecto one hot dựa trên bộ mã hóa unicode\n",
    "for i, letter in enumerate(line.lower().strip()):\n",
    "    letter_index = ord(letter) if ord(letter) < 128 else 0 #ord : return code mã hóa cho từ\n",
    "    letter_tensor[i][letter_index] = 1\n"
   ]
  },
  {
   "cell_type": "code",
   "execution_count": 17,
   "metadata": {},
   "outputs": [
    {
     "name": "stdout",
     "output_type": "stream",
     "text": [
      "Michaelmas, and some of his servants are to be in the house by\n",
      "['michaelmas', 'and', 'some', 'of', 'his', 'servants', 'are', 'to', 'be', 'in', 'the', 'house', 'by']\n"
     ]
    }
   ],
   "source": [
    "#tiền xử lý dữ liệu\n",
    "def clean_words(input_str):\n",
    " punctuation = '.,;:\"!?”“_-'\n",
    " word_list = input_str.lower().replace('\\n',' ').split()\n",
    " word_list = [word.strip(punctuation) for word in word_list]\n",
    " return word_list\n",
    "words_in_line = clean_words(line)\n",
    "print(line.strip())\n",
    "print(words_in_line)"
   ]
  },
  {
   "cell_type": "code",
   "execution_count": 34,
   "metadata": {},
   "outputs": [],
   "source": [
    "#xây dựng bộ từ điển\n",
    "world_list = sorted(set(clean_words(text)))\n",
    "\n",
    "'''xây dựng dictionary gồm \n",
    "+ key : các từ\n",
    "+ value : vị trí của các từ'''\n",
    "word2index_dict = {word : i for (i, word) in enumerate(world_list)}\n"
   ]
  },
  {
   "cell_type": "code",
   "execution_count": 42,
   "metadata": {},
   "outputs": [
    {
     "name": "stdout",
     "output_type": "stream",
     "text": [
      "torch.Size([13, 7258])\n"
     ]
    }
   ],
   "source": [
    "#tạo vecto one hot dựa trên từ điển vừa xây dựng\n",
    "word_tensor = torch.zeros(len(words_in_line),len(word2index_dict))\n",
    "print(word_tensor.shape)\n",
    "for i, word in enumerate(words_in_line):\n",
    "    word_index = word2index_dict[word]\n",
    "    # print(word_index)\n",
    "    word_tensor[i][word_index] = 1\n"
   ]
  }
 ],
 "metadata": {
  "kernelspec": {
   "display_name": "Python 3.7.6 64-bit",
   "language": "python",
   "name": "python3"
  },
  "language_info": {
   "codemirror_mode": {
    "name": "ipython",
    "version": 3
   },
   "file_extension": ".py",
   "mimetype": "text/x-python",
   "name": "python",
   "nbconvert_exporter": "python",
   "pygments_lexer": "ipython3",
   "version": "3.7.6"
  },
  "orig_nbformat": 4,
  "vscode": {
   "interpreter": {
    "hash": "d65b2b009303c0af65e9c9d4be8f26c2c45182fd085ae18c2ed3b904a6fa84e8"
   }
  }
 },
 "nbformat": 4,
 "nbformat_minor": 2
}
